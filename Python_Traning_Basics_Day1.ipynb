{
  "nbformat": 4,
  "nbformat_minor": 0,
  "metadata": {
    "colab": {
      "provenance": [],
      "authorship_tag": "ABX9TyMC63+Dg+f0AapUvAgE9EBj",
      "include_colab_link": true
    },
    "kernelspec": {
      "name": "python3",
      "display_name": "Python 3"
    },
    "language_info": {
      "name": "python"
    }
  },
  "cells": [
    {
      "cell_type": "markdown",
      "metadata": {
        "id": "view-in-github",
        "colab_type": "text"
      },
      "source": [
        "<a href=\"https://colab.research.google.com/github/somu-analyst/Python_Learning/blob/main/Python_Traning_Basics_Day1.ipynb\" target=\"_parent\"><img src=\"https://colab.research.google.com/assets/colab-badge.svg\" alt=\"Open In Colab\"/></a>"
      ]
    },
    {
      "cell_type": "code",
      "execution_count": 1,
      "metadata": {
        "colab": {
          "base_uri": "https://localhost:8080/"
        },
        "id": "9jX5qWn1ShPU",
        "outputId": "cb6a9952-f11d-44c2-9195-8eeb95a8d878"
      },
      "outputs": [
        {
          "output_type": "execute_result",
          "data": {
            "text/plain": [
              "100"
            ]
          },
          "metadata": {},
          "execution_count": 1
        }
      ],
      "source": [
        "a=10\n",
        "a**2"
      ]
    },
    {
      "cell_type": "code",
      "source": [
        "#Python is a dynamically typed languague - no need to define a variable as char or numeric"
      ],
      "metadata": {
        "id": "e1VVqcQWTTm_"
      },
      "execution_count": null,
      "outputs": []
    },
    {
      "cell_type": "code",
      "source": [
        "#Program to demonstrate the operators\n",
        "#Assignment with Identifiers\n",
        "A=100\n",
        "NAME = \"SOMU\"\n",
        "SAL = 10000\n",
        "\n",
        "print(\"no is \",A)\n",
        "print(\"name is\",NAME)\n",
        "print(\"Sal is\",SAL)\n",
        "\n",
        "#one more syntax for printing\n",
        "print(\"Number is {} who name is {} and salary is {}\".format(A,NAME,SAL))"
      ],
      "metadata": {
        "colab": {
          "base_uri": "https://localhost:8080/"
        },
        "id": "Sv_FDyomUBRz",
        "outputId": "51c5c5a0-1785-4691-a2ef-2dea554b63d6"
      },
      "execution_count": 11,
      "outputs": [
        {
          "output_type": "stream",
          "name": "stdout",
          "text": [
            "no is  100\n",
            "name is SOMU\n",
            "Sal is 10000\n",
            "Number is 100 who name is SOMU and salary is 10000\n"
          ]
        }
      ]
    },
    {
      "cell_type": "code",
      "source": [],
      "metadata": {
        "id": "qI7ham64URwP"
      },
      "execution_count": null,
      "outputs": []
    }
  ]
}