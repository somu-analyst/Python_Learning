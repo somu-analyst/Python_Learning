{
  "nbformat": 4,
  "nbformat_minor": 0,
  "metadata": {
    "colab": {
      "provenance": [],
      "authorship_tag": "ABX9TyMrayagR+mmu1y1Z5ymeuxd",
      "include_colab_link": true
    },
    "kernelspec": {
      "name": "python3",
      "display_name": "Python 3"
    },
    "language_info": {
      "name": "python"
    }
  },
  "cells": [
    {
      "cell_type": "markdown",
      "metadata": {
        "id": "view-in-github",
        "colab_type": "text"
      },
      "source": [
        "<a href=\"https://colab.research.google.com/github/somu-analyst/Python_Learning/blob/main/Python_Traning_Advanced_Day1.ipynb\" target=\"_parent\"><img src=\"https://colab.research.google.com/assets/colab-badge.svg\" alt=\"Open In Colab\"/></a>"
      ]
    },
    {
      "cell_type": "code",
      "execution_count": null,
      "metadata": {
        "colab": {
          "base_uri": "https://localhost:8080/"
        },
        "id": "qWwcFZhBNvxI",
        "outputId": "0ea06cea-57a5-422c-85fc-3cc8a845ec58"
      },
      "outputs": [
        {
          "output_type": "stream",
          "name": "stdout",
          "text": [
            "9793376\n",
            "9793376\n",
            "9793344\n"
          ]
        }
      ],
      "source": [
        "a=10\n",
        "b=a-1\n",
        "print(id(a))\n",
        "print(id(10))\n",
        "print(id(b))"
      ]
    },
    {
      "cell_type": "code",
      "source": [
        "my_names=[]\n",
        "while True:\n",
        "  name =input(\"Enter the name\")\n",
        "  if name in ['STOP','END','Quit']:\n",
        "    break\n",
        "  else:\n",
        "    contact =input(\"enter ph.no:\")\n",
        "    my_names.append(name)\n",
        "    my_names.append(contact)\n",
        "print(my_names)\n",
        "\n",
        "\n"
      ],
      "metadata": {
        "colab": {
          "base_uri": "https://localhost:8080/"
        },
        "id": "SBSFefBaVQw6",
        "outputId": "e8ebc0ab-45b3-4ee3-dc48-22cc3341511d"
      },
      "execution_count": null,
      "outputs": [
        {
          "output_type": "stream",
          "name": "stdout",
          "text": [
            "Enter the namesrini\n",
            "enter ph.no:1234\n",
            "Enter the namestop\n",
            "enter ph.no:124\n",
            "Enter the nameSTOP\n",
            "['srini', '1234', 'stop', '124']\n"
          ]
        }
      ]
    },
    {
      "cell_type": "code",
      "source": [
        "List_emp =[]\n",
        "\n",
        "list_emp =input().split()\n",
        "list_emp"
      ],
      "metadata": {
        "id": "oLjs_pyxbGtt"
      },
      "execution_count": null,
      "outputs": []
    }
  ]
}